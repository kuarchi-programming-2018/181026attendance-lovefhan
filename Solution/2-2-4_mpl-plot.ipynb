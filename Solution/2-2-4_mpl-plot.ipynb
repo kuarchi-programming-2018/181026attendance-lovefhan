{
 "cells": [
  {
   "cell_type": "markdown",
   "metadata": {},
   "source": [
    "# ライブラリの`import`を用いる\n",
    "## matplotlibを使ってグラフをプロット"
   ]
  },
  {
   "cell_type": "markdown",
   "metadata": {},
   "source": [
    "まずはデータを読み込み，それをX, Yのデータにして返す関数を作りましょう。\n",
    "csv とはcomma separated valuesです。テキストで開いてみればわかります。エクセルでも開けます。"
   ]
  },
  {
   "cell_type": "code",
   "execution_count": 29,
   "metadata": {},
   "outputs": [],
   "source": [
    "import csv\n",
    "def read_data(file_name):\n",
    "    reader = csv.reader(open(file_name, 'r'))\n",
    "    X = []\n",
    "    Y = []\n",
    "    for row in reader:\n",
    "        X.append(float(row[0]))\n",
    "        Y.append(float(row[1]))\n",
    "    return X, Y  # データを返す"
   ]
  },
  {
   "cell_type": "markdown",
   "metadata": {},
   "source": [
    "matplotlibを用いてデータを散布図にプロットする関数を作成します。"
   ]
  },
  {
   "cell_type": "code",
   "execution_count": 30,
   "metadata": {},
   "outputs": [],
   "source": [
    "import matplotlib.pyplot as plt\n",
    "% matplotlib inline\n",
    "#  % matplotlib inlineはjupyter notebookでmatplotlibを行内に表示するためのおまじない"
   ]
  },
  {
   "cell_type": "code",
   "execution_count": 38,
   "metadata": {},
   "outputs": [],
   "source": [
    "def draw_graph(X, Y, title, xlabel, ylabel):\n",
    "    plt.title(title)  # グラフタイトル\n",
    "    plt.xlabel(xlabel)  # X軸タイトル\n",
    "    plt.ylabel(ylabel)  # Y軸タイトル\n",
    "    plt.plot(X, Y)  # グラフをメモリ上に作成\n",
    "    plt.show()  # グラフの描画"
   ]
  },
  {
   "cell_type": "markdown",
   "metadata": {},
   "source": [
    "では，データを読み込んで描画して見ましょう。"
   ]
  },
  {
   "cell_type": "code",
   "execution_count": 1,
   "metadata": {
    "scrolled": true
   },
   "outputs": [
    {
     "ename": "NameError",
     "evalue": "name 'read_data' is not defined",
     "output_type": "error",
     "traceback": [
      "\u001b[1;31m---------------------------------------------------------------------------\u001b[0m",
      "\u001b[1;31mNameError\u001b[0m                                 Traceback (most recent call last)",
      "\u001b[1;32m<ipython-input-1-b1eb4220383b>\u001b[0m in \u001b[0;36m<module>\u001b[1;34m()\u001b[0m\n\u001b[0;32m      1\u001b[0m \u001b[0mfile_name\u001b[0m \u001b[1;33m=\u001b[0m \u001b[1;34m'data3.csv'\u001b[0m  \u001b[1;31m# ファイル名\u001b[0m\u001b[1;33m\u001b[0m\u001b[0m\n\u001b[1;32m----> 2\u001b[1;33m \u001b[0mx\u001b[0m\u001b[1;33m,\u001b[0m \u001b[0my\u001b[0m \u001b[1;33m=\u001b[0m \u001b[0mread_data\u001b[0m\u001b[1;33m(\u001b[0m\u001b[0mfile_name\u001b[0m\u001b[1;33m)\u001b[0m  \u001b[1;31m# 関数read_dataによりデータを取得\u001b[0m\u001b[1;33m\u001b[0m\u001b[0m\n\u001b[0m\u001b[0;32m      3\u001b[0m \u001b[0mtitle\u001b[0m\u001b[1;33m,\u001b[0m \u001b[0mxl\u001b[0m\u001b[1;33m,\u001b[0m \u001b[0myl\u001b[0m \u001b[1;33m=\u001b[0m \u001b[1;34m'LineGraph'\u001b[0m\u001b[1;33m,\u001b[0m \u001b[1;34m'X-Axis'\u001b[0m\u001b[1;33m,\u001b[0m \u001b[1;34m'Y-Axis'\u001b[0m  \u001b[1;31m# タイトル，ラベル\u001b[0m\u001b[1;33m\u001b[0m\u001b[0m\n\u001b[0;32m      4\u001b[0m \u001b[0mdraw_graph\u001b[0m\u001b[1;33m(\u001b[0m\u001b[0mx\u001b[0m\u001b[1;33m,\u001b[0m \u001b[0my\u001b[0m\u001b[1;33m,\u001b[0m \u001b[0mtitle\u001b[0m\u001b[1;33m,\u001b[0m \u001b[0mxl\u001b[0m\u001b[1;33m,\u001b[0m \u001b[0myl\u001b[0m\u001b[1;33m)\u001b[0m\u001b[1;33m\u001b[0m\u001b[0m\n\u001b[0;32m      5\u001b[0m \u001b[1;31m# 関数draw_graphによりグラフ描画\u001b[0m\u001b[1;33m\u001b[0m\u001b[1;33m\u001b[0m\u001b[0m\n",
      "\u001b[1;31mNameError\u001b[0m: name 'read_data' is not defined"
     ]
    }
   ],
   "source": [
    "file_name = 'data3.csv'  # ファイル名\n",
    "x, y = read_data(file_name)  # 関数read_dataによりデータを取得\n",
    "title, xl, yl = 'LineGraph', 'X-Axis', 'Y-Axis'  # タイトル，ラベル\n",
    "draw_graph(x, y, title, xl, yl) \n",
    "# 関数draw_graphによりグラフ描画"
   ]
  },
  {
   "cell_type": "code",
   "execution_count": null,
   "metadata": {},
   "outputs": [],
   "source": []
  }
 ],
 "metadata": {
  "kernelspec": {
   "display_name": "Python 3",
   "language": "python",
   "name": "python3"
  },
  "language_info": {
   "codemirror_mode": {
    "name": "ipython",
    "version": 3
   },
   "file_extension": ".py",
   "mimetype": "text/x-python",
   "name": "python",
   "nbconvert_exporter": "python",
   "pygments_lexer": "ipython3",
   "version": "3.7.0"
  }
 },
 "nbformat": 4,
 "nbformat_minor": 2
}
